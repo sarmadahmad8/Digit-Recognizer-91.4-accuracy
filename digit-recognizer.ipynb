{
 "cells": [
  {
   "cell_type": "raw",
   "id": "eda5a720",
   "metadata": {
    "_cell_guid": "b1076dfc-b9ad-4769-8c92-a6c4dae69d19",
    "_uuid": "8f2839f25d086af736a60e9eeb907d3b93b6e0e5",
    "execution": {
     "iopub.execute_input": "2024-02-10T10:54:50.576561Z",
     "iopub.status.busy": "2024-02-10T10:54:50.576180Z"
    },
    "papermill": {
     "duration": 0.002944,
     "end_time": "2024-04-28T09:47:30.752392",
     "exception": false,
     "start_time": "2024-04-28T09:47:30.749448",
     "status": "completed"
    },
    "tags": []
   },
   "source": []
  },
  {
   "cell_type": "code",
   "execution_count": 1,
   "id": "84c8e580",
   "metadata": {
    "execution": {
     "iopub.execute_input": "2024-04-28T09:47:30.758884Z",
     "iopub.status.busy": "2024-04-28T09:47:30.758491Z",
     "iopub.status.idle": "2024-04-28T09:47:34.775514Z",
     "shell.execute_reply": "2024-04-28T09:47:34.774278Z"
    },
    "papermill": {
     "duration": 4.023127,
     "end_time": "2024-04-28T09:47:34.778054",
     "exception": false,
     "start_time": "2024-04-28T09:47:30.754927",
     "status": "completed"
    },
    "tags": []
   },
   "outputs": [],
   "source": [
    "import numpy as np\n",
    "import pandas as pd\n",
    "from matplotlib import pyplot as plt\n",
    "data = pd.read_csv('/kaggle/input/digit-recognizer/train.csv')"
   ]
  },
  {
   "cell_type": "code",
   "execution_count": 2,
   "id": "4cd39ca7",
   "metadata": {
    "execution": {
     "iopub.execute_input": "2024-04-28T09:47:34.785129Z",
     "iopub.status.busy": "2024-04-28T09:47:34.784360Z",
     "iopub.status.idle": "2024-04-28T09:47:35.006677Z",
     "shell.execute_reply": "2024-04-28T09:47:35.005777Z"
    },
    "papermill": {
     "duration": 0.22847,
     "end_time": "2024-04-28T09:47:35.009130",
     "exception": false,
     "start_time": "2024-04-28T09:47:34.780660",
     "status": "completed"
    },
    "tags": []
   },
   "outputs": [],
   "source": [
    "data=np.array(data)\n",
    "m,n = data.shape\n",
    "data_test = data[0:1000].T\n",
    "y_test = data_test[0]\n",
    "x_test = data_test[1:n]\n",
    "x_test = x_test/255\n",
    "\n",
    "data_train = data[1000:m].T\n",
    "y_train = data_train[0]\n",
    "x_train = data_train[1:n]\n",
    "x_train = x_train/255\n",
    "_,m_train = x_train.shape"
   ]
  },
  {
   "cell_type": "code",
   "execution_count": 3,
   "id": "1be37714",
   "metadata": {
    "execution": {
     "iopub.execute_input": "2024-04-28T09:47:35.015825Z",
     "iopub.status.busy": "2024-04-28T09:47:35.015107Z",
     "iopub.status.idle": "2024-04-28T09:47:35.029858Z",
     "shell.execute_reply": "2024-04-28T09:47:35.028562Z"
    },
    "papermill": {
     "duration": 0.020332,
     "end_time": "2024-04-28T09:47:35.032026",
     "exception": false,
     "start_time": "2024-04-28T09:47:35.011694",
     "status": "completed"
    },
    "tags": []
   },
   "outputs": [],
   "source": [
    "def init_pm():\n",
    "    w1=np.random.randn(10,784)*0.05\n",
    "    b1=np.random.randn(10,1)*0.05\n",
    "    w2=np.random.randn(10,10)*0.05\n",
    "    b2=np.random.randn(10,1)*0.05\n",
    "    return w1,b1,w2,b2\n",
    "def relu(z):\n",
    "    return np.maximum(z,0)\n",
    "def softmax(z):\n",
    "    exp = np.exp(z - np.max(z)) \n",
    "    return exp / exp.sum(axis=0)\n",
    "def forward_prop(w1,b1,w2,b2,x):\n",
    "    z1 = w1.dot(x) + b1\n",
    "    a1 = relu(z1)\n",
    "    z2 = w2.dot(a1) + b2\n",
    "    a2= softmax(z2)\n",
    "    return z1,a1,z2,a2\n",
    "def drelu(z):\n",
    "    return z> 0\n",
    "def one_hot(y):\n",
    "    one_hot_y = np.zeros((y.size,y.max()+1))\n",
    "    one_hot_y[np.arange(y.size),y]=1\n",
    "    one_hot_y = one_hot_y.T\n",
    "    return one_hot_y\n",
    "\n",
    "def backward_prop(x,one_hot_y,a1,z1,a2,z2,w1,b1,w2,b2):\n",
    "    dz2 = 2*(a2-one_hot_y)\n",
    "    dw2 = (dz2.dot(a1.T))/m\n",
    "    db2 = np.sum(dz2)/m\n",
    "    dz1 = (w2.T).dot(dz2)*drelu(z1)\n",
    "    dw1 = (dz1.dot(x.T))/m\n",
    "    db1= np.sum(dz1)/m\n",
    "    return dw1,db1,dw2,db2\n",
    "def update_pm(w1,b1,w2,b2,dw1,db1,dw2,db2,a):\n",
    "    w2 = w2-a*dw2\n",
    "    b2= b2-a*db2\n",
    "    w1=w1-a*dw1\n",
    "    b1=b1-a*db1\n",
    "    return w1,b1,w2,b2\n",
    "def get_predictions(a2):\n",
    "    return np.argmax(a2,0)\n",
    "def accuracy(predictions,y):\n",
    "    print(predictions, y)\n",
    "    return np.sum(predictions==y)/y.size\n",
    "def gd(x,y,a,iterations):\n",
    "    w1,b1,w2,b2 = init_pm()\n",
    "    one_hot_y = one_hot(y)\n",
    "    for i in range(iterations):\n",
    "        z1,a1,z2,a2 = forward_prop(w1,b1,w2,b2,x)\n",
    "        dw1,db1,dw2,db2 = backward_prop(x,one_hot_y,a1,z1,a2,z2,w1,b1,w2,b2)\n",
    "        w1,b1,w2,b2 = update_pm(w1,b1,w2,b2,dw1,db1,dw2,db2,a)\n",
    "        if i % 10 == 0:\n",
    "            print(\"Iteration: \", i)\n",
    "            predictions = get_predictions(a2)\n",
    "            print(accuracy(predictions, y))\n",
    "    return w1, b1, w2, b2"
   ]
  },
  {
   "cell_type": "code",
   "execution_count": 4,
   "id": "8890139b",
   "metadata": {
    "execution": {
     "iopub.execute_input": "2024-04-28T09:47:35.038608Z",
     "iopub.status.busy": "2024-04-28T09:47:35.038261Z",
     "iopub.status.idle": "2024-04-28T09:48:28.681550Z",
     "shell.execute_reply": "2024-04-28T09:48:28.680256Z"
    },
    "papermill": {
     "duration": 53.650281,
     "end_time": "2024-04-28T09:48:28.684882",
     "exception": false,
     "start_time": "2024-04-28T09:47:35.034601",
     "status": "completed"
    },
    "tags": []
   },
   "outputs": [
    {
     "name": "stdout",
     "output_type": "stream",
     "text": [
      "Iteration:  0\n",
      "[4 1 4 ... 1 1 1] [1 5 1 ... 7 6 9]\n",
      "0.0721951219512195\n",
      "Iteration:  10\n",
      "[1 0 1 ... 0 1 1] [1 5 1 ... 7 6 9]\n",
      "0.2952682926829268\n",
      "Iteration:  20\n",
      "[1 0 1 ... 0 0 9] [1 5 1 ... 7 6 9]\n",
      "0.37782926829268293\n",
      "Iteration:  30\n",
      "[1 0 1 ... 7 6 9] [1 5 1 ... 7 6 9]\n",
      "0.5691951219512195\n",
      "Iteration:  40\n",
      "[1 6 1 ... 7 6 9] [1 5 1 ... 7 6 9]\n",
      "0.6850731707317074\n",
      "Iteration:  50\n",
      "[1 2 1 ... 7 6 4] [1 5 1 ... 7 6 9]\n",
      "0.7379756097560976\n",
      "Iteration:  60\n",
      "[1 8 1 ... 7 6 4] [1 5 1 ... 7 6 9]\n",
      "0.7692682926829268\n",
      "Iteration:  70\n",
      "[1 8 1 ... 7 6 4] [1 5 1 ... 7 6 9]\n",
      "0.7936341463414635\n",
      "Iteration:  80\n",
      "[1 8 1 ... 7 6 9] [1 5 1 ... 7 6 9]\n",
      "0.8113658536585366\n",
      "Iteration:  90\n",
      "[1 8 1 ... 7 6 9] [1 5 1 ... 7 6 9]\n",
      "0.8266585365853658\n",
      "Iteration:  100\n",
      "[1 8 1 ... 7 6 9] [1 5 1 ... 7 6 9]\n",
      "0.8384634146341463\n",
      "Iteration:  110\n",
      "[1 8 1 ... 7 6 9] [1 5 1 ... 7 6 9]\n",
      "0.8482926829268292\n",
      "Iteration:  120\n",
      "[1 8 1 ... 7 6 9] [1 5 1 ... 7 6 9]\n",
      "0.8560975609756097\n",
      "Iteration:  130\n",
      "[1 8 1 ... 7 6 9] [1 5 1 ... 7 6 9]\n",
      "0.8623414634146341\n",
      "Iteration:  140\n",
      "[1 8 1 ... 7 6 9] [1 5 1 ... 7 6 9]\n",
      "0.8677317073170732\n",
      "Iteration:  150\n",
      "[1 8 1 ... 7 6 9] [1 5 1 ... 7 6 9]\n",
      "0.8714146341463415\n",
      "Iteration:  160\n",
      "[1 8 1 ... 7 6 9] [1 5 1 ... 7 6 9]\n",
      "0.8753658536585366\n",
      "Iteration:  170\n",
      "[1 8 1 ... 7 6 9] [1 5 1 ... 7 6 9]\n",
      "0.8788536585365854\n",
      "Iteration:  180\n",
      "[1 8 1 ... 7 6 9] [1 5 1 ... 7 6 9]\n",
      "0.8824878048780488\n",
      "Iteration:  190\n",
      "[1 8 1 ... 7 6 9] [1 5 1 ... 7 6 9]\n",
      "0.8849512195121951\n",
      "Iteration:  200\n",
      "[1 8 1 ... 7 6 9] [1 5 1 ... 7 6 9]\n",
      "0.8870243902439024\n",
      "Iteration:  210\n",
      "[1 8 1 ... 7 6 9] [1 5 1 ... 7 6 9]\n",
      "0.8885853658536585\n",
      "Iteration:  220\n",
      "[1 8 1 ... 7 6 9] [1 5 1 ... 7 6 9]\n",
      "0.8902926829268293\n",
      "Iteration:  230\n",
      "[1 8 1 ... 7 6 9] [1 5 1 ... 7 6 9]\n",
      "0.8922926829268293\n",
      "Iteration:  240\n",
      "[1 8 1 ... 7 6 9] [1 5 1 ... 7 6 9]\n",
      "0.893609756097561\n",
      "Iteration:  250\n",
      "[1 8 1 ... 7 6 9] [1 5 1 ... 7 6 9]\n",
      "0.8952682926829268\n",
      "Iteration:  260\n",
      "[1 8 1 ... 7 6 9] [1 5 1 ... 7 6 9]\n",
      "0.8968780487804878\n",
      "Iteration:  270\n",
      "[1 8 1 ... 7 6 9] [1 5 1 ... 7 6 9]\n",
      "0.8979512195121951\n",
      "Iteration:  280\n",
      "[1 8 1 ... 7 6 9] [1 5 1 ... 7 6 9]\n",
      "0.8993658536585366\n",
      "Iteration:  290\n",
      "[1 8 1 ... 7 6 9] [1 5 1 ... 7 6 9]\n",
      "0.9004390243902439\n",
      "Iteration:  300\n",
      "[1 8 1 ... 7 6 9] [1 5 1 ... 7 6 9]\n",
      "0.9015853658536586\n",
      "Iteration:  310\n",
      "[1 8 1 ... 7 6 9] [1 5 1 ... 7 6 9]\n",
      "0.9024146341463415\n",
      "Iteration:  320\n",
      "[1 8 1 ... 7 6 9] [1 5 1 ... 7 6 9]\n",
      "0.9034146341463415\n",
      "Iteration:  330\n",
      "[1 8 1 ... 7 6 9] [1 5 1 ... 7 6 9]\n",
      "0.9042682926829269\n",
      "Iteration:  340\n",
      "[1 8 1 ... 7 6 9] [1 5 1 ... 7 6 9]\n",
      "0.9049512195121951\n",
      "Iteration:  350\n",
      "[1 8 1 ... 7 6 9] [1 5 1 ... 7 6 9]\n",
      "0.905609756097561\n",
      "Iteration:  360\n",
      "[1 8 1 ... 7 6 9] [1 5 1 ... 7 6 9]\n",
      "0.9061951219512195\n",
      "Iteration:  370\n",
      "[1 8 1 ... 7 6 9] [1 5 1 ... 7 6 9]\n",
      "0.9070731707317073\n",
      "Iteration:  380\n",
      "[1 8 1 ... 7 6 9] [1 5 1 ... 7 6 9]\n",
      "0.9074878048780488\n",
      "Iteration:  390\n",
      "[1 8 1 ... 7 6 9] [1 5 1 ... 7 6 9]\n",
      "0.908\n",
      "Iteration:  400\n",
      "[1 8 1 ... 7 6 9] [1 5 1 ... 7 6 9]\n",
      "0.9085609756097561\n",
      "Iteration:  410\n",
      "[1 8 1 ... 7 6 9] [1 5 1 ... 7 6 9]\n",
      "0.9094390243902439\n",
      "Iteration:  420\n",
      "[1 8 1 ... 7 6 9] [1 5 1 ... 7 6 9]\n",
      "0.9099268292682927\n",
      "Iteration:  430\n",
      "[1 8 1 ... 7 6 9] [1 5 1 ... 7 6 9]\n",
      "0.9105121951219513\n",
      "Iteration:  440\n",
      "[1 8 1 ... 7 6 9] [1 5 1 ... 7 6 9]\n",
      "0.9110487804878049\n",
      "Iteration:  450\n",
      "[1 8 1 ... 7 6 9] [1 5 1 ... 7 6 9]\n",
      "0.9114878048780488\n",
      "Iteration:  460\n",
      "[1 8 1 ... 7 6 9] [1 5 1 ... 7 6 9]\n",
      "0.9120487804878049\n",
      "Iteration:  470\n",
      "[1 8 1 ... 7 6 9] [1 5 1 ... 7 6 9]\n",
      "0.9123414634146342\n",
      "Iteration:  480\n",
      "[1 8 1 ... 7 6 9] [1 5 1 ... 7 6 9]\n",
      "0.9130243902439025\n",
      "Iteration:  490\n",
      "[1 8 1 ... 7 6 9] [1 5 1 ... 7 6 9]\n",
      "0.9137560975609756\n"
     ]
    }
   ],
   "source": [
    "w1,b1,w2,b2 = gd(x_train,y_train,0.1,500)"
   ]
  },
  {
   "cell_type": "code",
   "execution_count": 5,
   "id": "a59ce7b6",
   "metadata": {
    "execution": {
     "iopub.execute_input": "2024-04-28T09:48:28.705959Z",
     "iopub.status.busy": "2024-04-28T09:48:28.705405Z",
     "iopub.status.idle": "2024-04-28T09:48:30.012957Z",
     "shell.execute_reply": "2024-04-28T09:48:30.011798Z"
    },
    "papermill": {
     "duration": 1.320582,
     "end_time": "2024-04-28T09:48:30.015088",
     "exception": false,
     "start_time": "2024-04-28T09:48:28.694506",
     "status": "completed"
    },
    "tags": []
   },
   "outputs": [
    {
     "name": "stdout",
     "output_type": "stream",
     "text": [
      "Prediction:  [1]\n",
      "Label:  1\n"
     ]
    },
    {
     "data": {
      "image/png": "[encoded data removed]",
      "text/plain": [
       "<Figure size 640x480 with 1 Axes>"
      ]
     },
     "metadata": {},
     "output_type": "display_data"
    },
    {
     "name": "stdout",
     "output_type": "stream",
     "text": [
      "Prediction:  [8]\n",
      "Label:  5\n"
     ]
    },
    {
     "data": {
      "image/png": "[encoded data removed]",
      "text/plain": [
       "<Figure size 640x480 with 1 Axes>"
      ]
     },
     "metadata": {},
     "output_type": "display_data"
    },
    {
     "name": "stdout",
     "output_type": "stream",
     "text": [
      "Prediction:  [1]\n",
      "Label:  1\n"
     ]
    },
    {
     "data": {
      "image/png": "[encoded data removed]",
      "text/plain": [
       "<Figure size 640x480 with 1 Axes>"
      ]
     },
     "metadata": {},
     "output_type": "display_data"
    },
    {
     "name": "stdout",
     "output_type": "stream",
     "text": [
      "Prediction:  [7]\n",
      "Label:  7\n"
     ]
    },
    {
     "data": {
      "image/png": "[encoded data removed]",
      "text/plain": [
       "<Figure size 640x480 with 1 Axes>"
      ]
     },
     "metadata": {},
     "output_type": "display_data"
    },
    {
     "name": "stdout",
     "output_type": "stream",
     "text": [
      "Prediction:  [7]\n",
      "Label:  7\n"
     ]
    },
    {
     "data": {
      "image/png": "[encoded data removed]",
      "text/plain": [
       "<Figure size 640x480 with 1 Axes>"
      ]
     },
     "metadata": {},
     "output_type": "display_data"
    },
    {
     "name": "stdout",
     "output_type": "stream",
     "text": [
      "Prediction:  [9]\n",
      "Label:  9\n"
     ]
    },
    {
     "data": {
      "image/png": "[encoded data removed]",
      "text/plain": [
       "<Figure size 640x480 with 1 Axes>"
      ]
     },
     "metadata": {},
     "output_type": "display_data"
    },
    {
     "name": "stdout",
     "output_type": "stream",
     "text": [
      "Prediction:  [6]\n",
      "Label:  6\n"
     ]
    },
    {
     "data": {
      "image/png": "[encoded data removed]",
      "text/plain": [
       "<Figure size 640x480 with 1 Axes>"
      ]
     },
     "metadata": {},
     "output_type": "display_data"
    },
    {
     "name": "stdout",
     "output_type": "stream",
     "text": [
      "Prediction:  [0]\n",
      "Label:  0\n"
     ]
    },
    {
     "data": {
      "image/png": "[encoded data removed]",
      "text/plain": [
       "<Figure size 640x480 with 1 Axes>"
      ]
     },
     "metadata": {},
     "output_type": "display_data"
    }
   ],
   "source": [
    "def make_predictions(x,w1,b1,w2,b2):\n",
    "    _, _, _, a2 = forward_prop(w1,b1,w2,b2,x)\n",
    "    predictions = get_predictions(a2)\n",
    "    return predictions\n",
    "\n",
    "def test_prediction(index, w1, b1, w2, b2):\n",
    "    current_image = x_train[:, index, None]\n",
    "    prediction = make_predictions(x_train[:, index, None], w1, b1, w2, b2)\n",
    "    label = y_train[index]\n",
    "    print(\"Prediction: \", prediction)\n",
    "    print(\"Label: \", label)\n",
    "    \n",
    "    current_image = current_image.reshape((28, 28)) *255\n",
    "    plt.gray()\n",
    "    plt.imshow(current_image, interpolation='nearest')\n",
    "    plt.show()\n",
    "    \n",
    "test_prediction(0, w1, b1, w2, b2)\n",
    "test_prediction(1, w1, b1, w2, b2)\n",
    "test_prediction(2, w1, b1, w2, b2)\n",
    "test_prediction(3, w1, b1, w2, b2)\n",
    "test_prediction(100, w1, b1, w2, b2)\n",
    "test_prediction(101, w1, b1, w2, b2)\n",
    "test_prediction(202, w1, b1, w2, b2)\n",
    "test_prediction(303, w1, b1, w2, b2)"
   ]
  }
 ],
 "metadata": {
  "kaggle": {
   "accelerator": "none",
   "dataSources": [
    {
     "databundleVersionId": 861823,
     "sourceId": 3004,
     "sourceType": "competition"
    }
   ],
   "dockerImageVersionId": 30646,
   "isGpuEnabled": false,
   "isInternetEnabled": false,
   "language": "python",
   "sourceType": "notebook"
  },
  "kernelspec": {
   "display_name": "Python 3",
   "language": "python",
   "name": "python3"
  },
  "language_info": {
   "codemirror_mode": {
    "name": "ipython",
    "version": 3
   },
   "file_extension": ".py",
   "mimetype": "text/x-python",
   "name": "python",
   "nbconvert_exporter": "python",
   "pygments_lexer": "ipython3",
   "version": "3.10.13"
  },
  "papermill": {
   "default_parameters": {},
   "duration": 62.714201,
   "end_time": "2024-04-28T09:48:30.542694",
   "environment_variables": {},
   "exception": null,
   "input_path": "__notebook__.ipynb",
   "output_path": "__notebook__.ipynb",
   "parameters": {},
   "start_time": "2024-04-28T09:47:27.828493",
   "version": "2.5.0"
  }
 },
 "nbformat": 4,
 "nbformat_minor": 5
}
